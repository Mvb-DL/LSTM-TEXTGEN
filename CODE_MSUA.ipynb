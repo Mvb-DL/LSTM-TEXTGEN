{
  "cells": [
    {
      "cell_type": "markdown",
      "metadata": {
        "id": "view-in-github",
        "colab_type": "text"
      },
      "source": [
        "<a href=\"https://colab.research.google.com/github/Mvb-DL/LSTM-TEXTGEN/blob/main/CODE_MSUA.ipynb\" target=\"_parent\"><img src=\"https://colab.research.google.com/assets/colab-badge.svg\" alt=\"Open In Colab\"/></a>"
      ]
    },
    {
      "cell_type": "code",
      "execution_count": null,
      "metadata": {
        "id": "uN-GY-yUs3ph"
      },
      "outputs": [],
      "source": [
        "import tensorflow as tf\n",
        "import os\n",
        "import numpy as np\n",
        "import keras\n",
        "from datetime import datetime\n",
        "from packaging import version\n",
        "!pip install matplotlib\n",
        "from matplotlib import pyplot as plt\n",
        "!pip install livelossplot \n",
        "from livelossplot import PlotLossesKeras"
      ]
    },
    {
      "cell_type": "markdown",
      "metadata": {
        "id": "WJlSAllXtPpk"
      },
      "source": [
        "# **Text von dem gelernt wird!**"
      ]
    },
    {
      "cell_type": "code",
      "execution_count": null,
      "metadata": {
        "id": "QX8ihroctLYx"
      },
      "outputs": [],
      "source": [
        "path_to_file = \"the canterville ghost.txt\" \n",
        "text = open(path_to_file, 'rb').read().decode(encoding='utf-8')"
      ]
    },
    {
      "cell_type": "markdown",
      "metadata": {
        "id": "yqScrkFPtf9z"
      },
      "source": [
        "# **Aufteilung in einzelne Sequenzen**"
      ]
    },
    {
      "cell_type": "code",
      "execution_count": null,
      "metadata": {
        "id": "ylWYWv8Xtb3I"
      },
      "outputs": [],
      "source": [
        "vocab = sorted(set(text))\n",
        "charidx = {u:i for i, u in enumerate(vocab)}\n",
        "idxchar = np.array(vocab)\n",
        "\n",
        "def text_to_int(text):\n",
        "  return np.array([charidx[c] for c in text])\n",
        "\n",
        "text_as_int = text_to_int(text)\n",
        "\n",
        "def int_to_text(ints):\n",
        "  try:\n",
        "    ints = ints.numpy() \n",
        "  except:\n",
        "    pass\n",
        "  return ''.join(idxchar[ints]) \n",
        "\n",
        "seq_length = 200 \n",
        "examples_per_epoch = len(text)//(seq_length+1)\n",
        "\n",
        "char_dataset = tf.data.Dataset.from_tensor_slices(text_as_int)"
      ]
    },
    {
      "cell_type": "code",
      "execution_count": null,
      "metadata": {
        "id": "5FTs87Ofto0b"
      },
      "outputs": [],
      "source": [
        "sequences = char_dataset.batch(seq_length+1, drop_remainder=True) "
      ]
    },
    {
      "cell_type": "code",
      "execution_count": null,
      "metadata": {
        "id": "Aal-kMfqtp4z"
      },
      "outputs": [],
      "source": [
        "def split_input_target(chunk):  \n",
        "    input_text = chunk[:-1]  \n",
        "    target_text = chunk[1:]  \n",
        "    return input_text, target_text  \n",
        "dataset = sequences.map(split_input_target)  "
      ]
    },
    {
      "cell_type": "markdown",
      "metadata": {
        "id": "VCz3c-X6tx2X"
      },
      "source": [
        "# **Parameter werden definiert**"
      ]
    },
    {
      "cell_type": "code",
      "execution_count": null,
      "metadata": {
        "id": "qmnu9uzHttS-"
      },
      "outputs": [],
      "source": [
        "BATCH_SIZE = 64 \n",
        "VOCAB_SIZE = len(vocab) \n",
        "EMBEDDING_DIM = 256\n",
        "RNN_UNITS = 1024\n",
        "epochs = 120\n",
        " \n",
        "BUFFER_SIZE = len(text) \n",
        "data = dataset.shuffle(BUFFER_SIZE).batch(BATCH_SIZE, drop_remainder=True).prefetch(tf.data.experimental.AUTOTUNE)"
      ]
    },
    {
      "cell_type": "markdown",
      "metadata": {
        "id": "ObbkXNQ3t48A"
      },
      "source": [
        "# **Zwischenspeicher des Modells \"Savepoints\"**"
      ]
    },
    {
      "cell_type": "code",
      "execution_count": null,
      "metadata": {
        "id": "3uMARSa6t2h3"
      },
      "outputs": [],
      "source": [
        "logdir = \"logs/scalars/\" + datetime.now().strftime(\"%Y%m%d-%H%M%S\")\n",
        "tensorboard_callback = keras.callbacks.TensorBoard(log_dir=logdir) "
      ]
    },
    {
      "cell_type": "markdown",
      "metadata": {
        "id": "fZWlu6xBuGIT"
      },
      "source": [
        "# **Das Modell**"
      ]
    },
    {
      "cell_type": "code",
      "execution_count": null,
      "metadata": {
        "id": "UrT0ZR48uBDj"
      },
      "outputs": [],
      "source": [
        "def build_model(vocab_size, embedding_dim, rnn_units, batch_size):\n",
        "  model = tf.keras.Sequential([\n",
        "    tf.keras.layers.Embedding(vocab_size, embedding_dim,       \n",
        "                              batch_input_shape=[batch_size, None]),\n",
        "    tf.keras.layers.LSTM(rnn_units,                           \n",
        "                        activation='tanh', \n",
        "                        recurrent_activation='sigmoid',\n",
        "                        return_sequences=True,\n",
        "                        stateful=True,\n",
        "                        recurrent_initializer='glorot_uniform', \n",
        "                        go_backwards=False, \n",
        "                        dropout=0.0,\n",
        "                        recurrent_dropout=0.0,\n",
        "                        unroll=False,                    \n",
        "                        ),\n",
        "      tf.keras.layers.LSTM(rnn_units,                            \n",
        "                        activation='tanh', \n",
        "                        recurrent_activation='sigmoid', \n",
        "                        return_sequences=True,\n",
        "                        stateful=True,\n",
        "                        recurrent_initializer='glorot_uniform', \n",
        "                        go_backwards=False, \n",
        "                        dropout=0.0,\n",
        "                        recurrent_dropout=0.0,\n",
        "                        unroll=False,                  \n",
        "                        ),     \n",
        "    tf.keras.layers.Dense(vocab_size)                         \n",
        "  ])\n",
        "  return model\n",
        "model = build_model(VOCAB_SIZE,EMBEDDING_DIM, RNN_UNITS, BATCH_SIZE )  \n",
        "model.summary()"
      ]
    },
    {
      "cell_type": "code",
      "execution_count": null,
      "metadata": {
        "id": "9B9RcJAiuNxH"
      },
      "outputs": [],
      "source": [
        "for input_example_batch, target_example_batch in data.take(1):\n",
        "  example_batch_predictions = model(input_example_batch)"
      ]
    },
    {
      "cell_type": "markdown",
      "metadata": {
        "id": "M3_s0ebAuTKb"
      },
      "source": [
        "# **Bewertung des Modells**"
      ]
    },
    {
      "cell_type": "code",
      "execution_count": null,
      "metadata": {
        "id": "0oiVKsSXuOej"
      },
      "outputs": [],
      "source": [
        "def loss(labels, logits): \n",
        "  return tf.keras.losses.sparse_categorical_crossentropy(labels, logits, from_logits=True)\n",
        "\n",
        "optimizer = tf.keras.optimizers.Adam(learning_rate=0.0008)\n",
        "metrics = tf.keras.metrics.SparseCategoricalAccuracy()\n",
        "\n",
        "model.compile(optimizer=optimizer, loss=loss, metrics= metrics)"
      ]
    },
    {
      "cell_type": "markdown",
      "metadata": {
        "id": "BLKE8pybuf0P"
      },
      "source": [
        "# **Aktualisierung und Speichern der Savepoints**"
      ]
    },
    {
      "cell_type": "code",
      "execution_count": null,
      "metadata": {
        "id": "TW0W4V7huXR4"
      },
      "outputs": [],
      "source": [
        "checkpoint_dir = './training_checkpoints'\n",
        "\n",
        "checkpoint_prefix = os.path.join(checkpoint_dir, \"ckpt_{epoch}\")\n",
        "\n",
        "checkpoint_callback= tf.keras.callbacks.ModelCheckpoint(\n",
        "    filepath=checkpoint_prefix,\n",
        "    save_weights_only=True)\n",
        "\n",
        "live_callback = PlotLossesKeras()"
      ]
    },
    {
      "cell_type": "markdown",
      "metadata": {
        "id": "KsgLQf8aut-C"
      },
      "source": [
        "# **Liveübertragung des Trainings**"
      ]
    },
    {
      "cell_type": "code",
      "execution_count": null,
      "metadata": {
        "id": "XfvW9Ypyurt1"
      },
      "outputs": [],
      "source": [
        "checkpoint_dir = './training_checkpoints'\n",
        "\n",
        "checkpoint_prefix = os.path.join(checkpoint_dir, \"ckpt_{epoch}\")\n",
        "\n",
        "checkpoint_callback= tf.keras.callbacks.ModelCheckpoint(\n",
        "    filepath=checkpoint_prefix,\n",
        "    save_weights_only=True)\n",
        "\n",
        "live_callback = PlotLossesKeras()"
      ]
    },
    {
      "cell_type": "code",
      "execution_count": null,
      "metadata": {
        "id": "eXIMGPaFwOFj",
        "colab": {
          "base_uri": "https://localhost:8080/",
          "height": 721
        },
        "outputId": "c5469863-066c-4b09-9d01-aa73dc2f0154"
      },
      "outputs": [
        {
          "output_type": "display_data",
          "data": {
            "image/png": "[encoded data removed]",
            "text/plain": [
              "<Figure size 864x576 with 2 Axes>"
            ]
          },
          "metadata": {
            "needs_background": "light"
          }
        },
        {
          "output_type": "stream",
          "name": "stdout",
          "text": [
            "Loss\n",
            "\tloss             \t (min:    0.134, max:    4.083, cur:    0.134)\n",
            "sparse_categorical_accuracy\n",
            "\tsparse_categorical_accuracy \t (min:    0.105, max:    0.976, cur:    0.976)\n",
            "5/5 [==============================] - 5s 999ms/step - loss: 0.1336 - sparse_categorical_accuracy: 0.9756\n",
            "5/5 [==============================] - 3s 265ms/step - loss: 0.1304 - sparse_categorical_accuracy: 0.9764\n",
            "CPU times: user 4min 54s, sys: 48.3 s, total: 5min 42s\n",
            "Wall time: 10min 4s\n"
          ]
        }
      ],
      "source": [
        "%%time\n",
        "history = model.fit(data, epochs=epochs, callbacks=[checkpoint_callback, live_callback])\n",
        "results = model.evaluate(data)"
      ]
    },
    {
      "cell_type": "markdown",
      "metadata": {
        "id": "j2Xhn1PXu4En"
      },
      "source": [
        "# **Zusammenfassung und Endbewertung des Modells**"
      ]
    },
    {
      "cell_type": "code",
      "execution_count": null,
      "metadata": {
        "id": "rHyQNicau3ZK",
        "colab": {
          "base_uri": "https://localhost:8080/",
          "height": 282
        },
        "outputId": "c7ff4f06-d824-4480-8547-4af9272c6d08"
      },
      "outputs": [
        {
          "output_type": "stream",
          "name": "stdout",
          "text": [
            "Test loss: 0.13037756085395813 / Test accuracy: 0.9764218926429749\n"
          ]
        },
        {
          "output_type": "display_data",
          "data": {
            "image/png": "[encoded data removed]",
            "text/plain": [
              "<Figure size 432x288 with 1 Axes>"
            ]
          },
          "metadata": {
            "needs_background": "light"
          }
        }
      ],
      "source": [
        "print(f'Test loss: {results[0]} / Test accuracy: {results[1]}')\n",
        "plt.plot(history.epoch, history.history['loss'], label='total loss')\n",
        "plt.show()"
      ]
    },
    {
      "cell_type": "markdown",
      "metadata": {
        "id": "GZyehhHEvFCA"
      },
      "source": [
        "# **Speichern des Modells**"
      ]
    },
    {
      "cell_type": "code",
      "execution_count": null,
      "metadata": {
        "id": "gpZ3h7xfu_wQ"
      },
      "outputs": [],
      "source": [
        "model = build_model(VOCAB_SIZE, EMBEDDING_DIM, RNN_UNITS, batch_size=1)\n",
        "model.load_weights(tf.train.latest_checkpoint(checkpoint_dir))\n",
        "model.build(tf.TensorShape([1, None])) "
      ]
    },
    {
      "cell_type": "markdown",
      "metadata": {
        "id": "CaLc-E6WvMaL"
      },
      "source": [
        "# **Textgenerator**"
      ]
    },
    {
      "cell_type": "code",
      "execution_count": null,
      "metadata": {
        "id": "os4yZYzSvLhT"
      },
      "outputs": [],
      "source": [
        "def generate_text(model, start_string):\n",
        " \n",
        "  num_generate = 2000\n",
        "\n",
        "  input_eval = [charidx[s] for s in start_string]\n",
        "  input_eval = tf.expand_dims(input_eval, 0)\n",
        "\n",
        "  text_generated = []\n",
        "\n",
        "  temperature = 1.0\n",
        " \n",
        "  model.reset_states()\n",
        "  for i in range(num_generate):\n",
        "      predictions = model(input_eval)\n",
        "    \n",
        "      predictions = tf.squeeze(predictions, 0)\n",
        "\n",
        "      predictions = predictions / temperature\n",
        "      predicted_id = tf.random.categorical(predictions, num_samples=1)[-1,0].numpy()\n",
        "\n",
        "      input_eval = tf.expand_dims([predicted_id], 0)\n",
        "\n",
        "      text_generated.append(idxchar[predicted_id])\n",
        "\n",
        "  return (start_string + ''.join(text_generated))"
      ]
    },
    {
      "cell_type": "code",
      "execution_count": null,
      "metadata": {
        "id": "lf3K1W-6vRET"
      },
      "outputs": [],
      "source": [
        "inp = input(\"Gib einen Text ein: \")\n",
        "print(generate_text(model, inp))"
      ]
    }
  ],
  "metadata": {
    "accelerator": "GPU",
    "colab": {
      "collapsed_sections": [],
      "name": "CODE MSUA.ipynb",
      "provenance": [],
      "include_colab_link": true
    },
    "kernelspec": {
      "display_name": "Python 3",
      "name": "python3"
    },
    "language_info": {
      "name": "python"
    }
  },
  "nbformat": 4,
  "nbformat_minor": 0
}